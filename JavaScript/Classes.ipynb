{
 "cells": [
  {
   "cell_type": "code",
   "execution_count": 1,
   "metadata": {},
   "outputs": [],
   "source": [
    "class User {\n",
    "    constructor(firstName, lastName, age) {\n",
    "        this.firstName = firstName;\n",
    "        this.lastName = lastName;\n",
    "        this.age = age\n",
    "    }\n",
    "    \n",
    "    get fullName() {\n",
    "        return this.firstName + ' ' + this.lastName\n",
    "    }\n",
    "    \n",
    "    get age() {\n",
    "        return this._age;\n",
    "    }\n",
    "    \n",
    "    set age(value) {\n",
    "        if (value <= 0) {\n",
    "            console.log(\"Age must be greater than 0\");\n",
    "            return;\n",
    "        }\n",
    "        this._age = value;\n",
    "    }\n",
    "    \n",
    "    sayHi() {\n",
    "        console.log(this.name);\n",
    "    }\n",
    "}"
   ]
  },
  {
   "cell_type": "code",
   "execution_count": 2,
   "metadata": {},
   "outputs": [
    {
     "data": {
      "text/plain": [
       "User { firstName: 'Mark', lastName: 'Tupala', _age: 36 }"
      ]
     },
     "execution_count": 2,
     "metadata": {},
     "output_type": "execute_result"
    }
   ],
   "source": [
    "user1 = new User('Mark', 'Tupala', 36)"
   ]
  },
  {
   "cell_type": "code",
   "execution_count": 3,
   "metadata": {},
   "outputs": [
    {
     "data": {
      "text/plain": [
       "'Mark Tupala'"
      ]
     },
     "execution_count": 3,
     "metadata": {},
     "output_type": "execute_result"
    }
   ],
   "source": [
    "user1.fullName"
   ]
  },
  {
   "cell_type": "code",
   "execution_count": 4,
   "metadata": {},
   "outputs": [
    {
     "name": "stdout",
     "output_type": "stream",
     "text": [
      "Mark\n"
     ]
    }
   ],
   "source": [
    "user1.sayHi()"
   ]
  },
  {
   "cell_type": "code",
   "execution_count": 4,
   "metadata": {},
   "outputs": [
    {
     "name": "stdout",
     "output_type": "stream",
     "text": [
      "Age must be greater than 0\n"
     ]
    },
    {
     "data": {
      "text/plain": [
       "0"
      ]
     },
     "execution_count": 4,
     "metadata": {},
     "output_type": "execute_result"
    }
   ],
   "source": [
    "user1.age = 0"
   ]
  },
  {
   "cell_type": "code",
   "execution_count": 5,
   "metadata": {},
   "outputs": [
    {
     "data": {
      "text/plain": [
       "36"
      ]
     },
     "execution_count": 5,
     "metadata": {},
     "output_type": "execute_result"
    }
   ],
   "source": [
    "user1.age"
   ]
  },
  {
   "cell_type": "markdown",
   "metadata": {},
   "source": [
    "# Inheritance"
   ]
  },
  {
   "cell_type": "code",
   "execution_count": 1,
   "metadata": {},
   "outputs": [],
   "source": [
    "class Animal {\n",
    "    constructor(name) {\n",
    "        this.speed = 0;\n",
    "        this.name = name;\n",
    "    }\n",
    "    \n",
    "    run(speed) {\n",
    "        this.speed += speed\n",
    "        console.log(`${this.name} runs with speed ${this.speed}`);\n",
    "    }\n",
    "    \n",
    "    stop() {\n",
    "        this.speed = 0;\n",
    "        console.log(`${this.name} stopped`);\n",
    "    }\n",
    "}"
   ]
  },
  {
   "cell_type": "code",
   "execution_count": 2,
   "metadata": {},
   "outputs": [
    {
     "data": {
      "text/plain": [
       "Animal { speed: 0, name: 'My animal' }"
      ]
     },
     "execution_count": 2,
     "metadata": {},
     "output_type": "execute_result"
    }
   ],
   "source": [
    "animal = new Animal('My animal')"
   ]
  },
  {
   "cell_type": "code",
   "execution_count": 3,
   "metadata": {},
   "outputs": [
    {
     "ename": "TypeError",
     "evalue": "animal.hide is not a function",
     "output_type": "error",
     "traceback": [
      "evalmachine.<anonymous>:1",
      "animal.hide()",
      "       ^",
      "",
      "TypeError: animal.hide is not a function",
      "    at evalmachine.<anonymous>:1:8",
      "    at Script.runInThisContext (vm.js:120:18)",
      "    at Object.runInThisContext (vm.js:309:38)",
      "    at run ([eval]:1054:15)",
      "    at onRunRequest ([eval]:888:18)",
      "    at onMessage ([eval]:848:13)",
      "    at process.emit (events.js:314:20)",
      "    at emit (internal/child_process.js:877:12)",
      "    at processTicksAndRejections (internal/process/task_queues.js:85:21)"
     ]
    }
   ],
   "source": [
    "animal.hide()"
   ]
  },
  {
   "cell_type": "code",
   "execution_count": 3,
   "metadata": {},
   "outputs": [],
   "source": [
    "class Rabbit extends Animal {\n",
    "    constructor(name, earLength) { \n",
    "        super(name);\n",
    "        this.earLength = earLength;\n",
    "    }\n",
    "    \n",
    "    stop() {\n",
    "        super.stop()\n",
    "        this.hide();\n",
    "    }\n",
    "    \n",
    "    hide() {\n",
    "        console.log(`${this.name} hides!`);\n",
    "    }\n",
    "    \n",
    "}"
   ]
  },
  {
   "cell_type": "code",
   "execution_count": 4,
   "metadata": {},
   "outputs": [
    {
     "data": {
      "text/plain": [
       "Rabbit { speed: 0, name: 'My rabbit', earLength: undefined }"
      ]
     },
     "execution_count": 4,
     "metadata": {},
     "output_type": "execute_result"
    }
   ],
   "source": [
    "rabbit = new Rabbit('My rabbit')"
   ]
  },
  {
   "cell_type": "code",
   "execution_count": 5,
   "metadata": {},
   "outputs": [
    {
     "name": "stdout",
     "output_type": "stream",
     "text": [
      "My rabbit stopped\n",
      "My rabbit hides!\n"
     ]
    }
   ],
   "source": [
    "rabbit.stop()"
   ]
  },
  {
   "cell_type": "code",
   "execution_count": 6,
   "metadata": {},
   "outputs": [
    {
     "name": "stdout",
     "output_type": "stream",
     "text": [
      "My rabbit hides!\n"
     ]
    }
   ],
   "source": [
    "rabbit.hide()"
   ]
  },
  {
   "cell_type": "code",
   "execution_count": null,
   "metadata": {},
   "outputs": [],
   "source": []
  }
 ],
 "metadata": {
  "kernelspec": {
   "display_name": "Javascript (Node.js)",
   "language": "javascript",
   "name": "javascript"
  },
  "language_info": {
   "file_extension": ".js",
   "mimetype": "application/javascript",
   "name": "javascript",
   "version": "12.20.1"
  }
 },
 "nbformat": 4,
 "nbformat_minor": 4
}
